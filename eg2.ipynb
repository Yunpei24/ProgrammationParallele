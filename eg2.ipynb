{
  "cells": [
    {
      "cell_type": "markdown",
      "metadata": {
        "id": "view-in-github",
        "colab_type": "text"
      },
      "source": [
        "<a href=\"https://colab.research.google.com/github/Yunpei24/ProgrammationParallele/blob/main/eg2.ipynb\" target=\"_parent\"><img src=\"https://colab.research.google.com/assets/colab-badge.svg\" alt=\"Open In Colab\"/></a>"
      ]
    },
    {
      "cell_type": "markdown",
      "id": "7af45bfa",
      "metadata": {
        "id": "7af45bfa"
      },
      "source": [
        "# Les Listes"
      ]
    },
    {
      "cell_type": "code",
      "execution_count": 1,
      "id": "f5a0e1ec",
      "metadata": {
        "colab": {
          "base_uri": "https://localhost:8080/"
        },
        "id": "f5a0e1ec",
        "outputId": "4b750ef0-c3ec-48c9-e547-25d4a76f300e"
      },
      "outputs": [
        {
          "output_type": "execute_result",
          "data": {
            "text/plain": [
              "[-45, 5, 25, 10, 1535]"
            ]
          },
          "metadata": {},
          "execution_count": 1
        }
      ],
      "source": [
        "c = [-45, 5, 25, 10, 1535]\n",
        "\n",
        "c"
      ]
    },
    {
      "cell_type": "code",
      "execution_count": 2,
      "id": "ed43b8b4",
      "metadata": {
        "colab": {
          "base_uri": "https://localhost:8080/"
        },
        "id": "ed43b8b4",
        "outputId": "2804782c-c632-446e-c714-987a87fc2e69"
      },
      "outputs": [
        {
          "output_type": "execute_result",
          "data": {
            "text/plain": [
              "-45"
            ]
          },
          "metadata": {},
          "execution_count": 2
        }
      ],
      "source": [
        "c[0]"
      ]
    },
    {
      "cell_type": "code",
      "execution_count": 3,
      "id": "49bdda6f",
      "metadata": {
        "colab": {
          "base_uri": "https://localhost:8080/"
        },
        "id": "49bdda6f",
        "outputId": "c4d9abce-ccb1-4b18-dc38-edc0c5d8f7f8"
      },
      "outputs": [
        {
          "output_type": "execute_result",
          "data": {
            "text/plain": [
              "-45"
            ]
          },
          "metadata": {},
          "execution_count": 3
        }
      ],
      "source": [
        "c[-5]"
      ]
    },
    {
      "cell_type": "code",
      "execution_count": 4,
      "id": "2ce3fc24",
      "metadata": {
        "colab": {
          "base_uri": "https://localhost:8080/"
        },
        "id": "2ce3fc24",
        "outputId": "053d1588-9e4d-4a1b-8c5e-e7786f1a75db"
      },
      "outputs": [
        {
          "output_type": "execute_result",
          "data": {
            "text/plain": [
              "[1, 2, 3, 4, 5]"
            ]
          },
          "metadata": {},
          "execution_count": 4
        }
      ],
      "source": [
        "a_list = []\n",
        "\n",
        "for number in range(1, 6):\n",
        "    a_list += [number]\n",
        "\n",
        "a_list"
      ]
    },
    {
      "cell_type": "code",
      "execution_count": 5,
      "id": "9a6362c3",
      "metadata": {
        "id": "9a6362c3"
      },
      "outputs": [],
      "source": [
        "# Using \"for\" in range"
      ]
    },
    {
      "cell_type": "markdown",
      "source": [
        "Comparaison de liste\n",
        "\n",
        "== pour savoir si 2 listes sont identiques\n",
        "=== pour savoir si 2 listes ont la meme taille\n",
        "<, > travail sur la longueur des listes"
      ],
      "metadata": {
        "id": "tC5oy7Z0Jc58"
      },
      "id": "tC5oy7Z0Jc58"
    },
    {
      "cell_type": "markdown",
      "source": [
        "Exercice"
      ],
      "metadata": {
        "id": "n3VYOk02KcTr"
      },
      "id": "n3VYOk02KcTr"
    },
    {
      "cell_type": "code",
      "source": [
        "# 1. Créer une fonction\n",
        "def cube_list(liste):\n",
        "  for i in range(len(liste)):\n",
        "    liste[i] = liste[i]**3\n",
        "\n",
        "  return liste\n",
        "\n",
        "# 2. création de la liste\n",
        "numbers = []\n",
        "for i in range(1, 11):\n",
        "  numbers += [i] "
      ],
      "metadata": {
        "id": "wduuB-H_Jk-E"
      },
      "id": "wduuB-H_Jk-E",
      "execution_count": 2,
      "outputs": []
    },
    {
      "cell_type": "code",
      "source": [
        "# 3. Appel de la fonction cube_list\n",
        "cube_list(numbers)"
      ],
      "metadata": {
        "colab": {
          "base_uri": "https://localhost:8080/"
        },
        "id": "RJk4cKyqL6Xw",
        "outputId": "8aa9a824-8931-4875-b37b-6a6fd4710c72"
      },
      "id": "RJk4cKyqL6Xw",
      "execution_count": 3,
      "outputs": [
        {
          "output_type": "execute_result",
          "data": {
            "text/plain": [
              "[1, 8, 27, 64, 125, 216, 343, 512, 729, 1000]"
            ]
          },
          "metadata": {},
          "execution_count": 3
        }
      ]
    },
    {
      "cell_type": "code",
      "source": [],
      "metadata": {
        "id": "ZXGCCqPjP1ku"
      },
      "id": "ZXGCCqPjP1ku",
      "execution_count": null,
      "outputs": []
    }
  ],
  "metadata": {
    "kernelspec": {
      "display_name": "Python 3 (ipykernel)",
      "language": "python",
      "name": "python3"
    },
    "language_info": {
      "codemirror_mode": {
        "name": "ipython",
        "version": 3
      },
      "file_extension": ".py",
      "mimetype": "text/x-python",
      "name": "python",
      "nbconvert_exporter": "python",
      "pygments_lexer": "ipython3",
      "version": "3.9.13"
    },
    "colab": {
      "provenance": [],
      "include_colab_link": true
    },
    "accelerator": "TPU",
    "gpuClass": "standard"
  },
  "nbformat": 4,
  "nbformat_minor": 5
}
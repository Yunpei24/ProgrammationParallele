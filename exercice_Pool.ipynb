{
  "nbformat": 4,
  "nbformat_minor": 0,
  "metadata": {
    "colab": {
      "provenance": [],
      "authorship_tag": "ABX9TyMJqmcxBfG/xgpOK65zWSwc",
      "include_colab_link": true
    },
    "kernelspec": {
      "name": "python3",
      "display_name": "Python 3"
    },
    "language_info": {
      "name": "python"
    }
  },
  "cells": [
    {
      "cell_type": "markdown",
      "metadata": {
        "id": "view-in-github",
        "colab_type": "text"
      },
      "source": [
        "<a href=\"https://colab.research.google.com/github/Yunpei24/ProgrammationParallele/blob/main/exercice_Pool.ipynb\" target=\"_parent\"><img src=\"https://colab.research.google.com/assets/colab-badge.svg\" alt=\"Open In Colab\"/></a>"
      ]
    },
    {
      "cell_type": "code",
      "execution_count": 4,
      "metadata": {
        "colab": {
          "base_uri": "https://localhost:8080/"
        },
        "id": "a2AecVM_dno-",
        "outputId": "b8ffcf5e-800d-4d71-fe62-f65dd54935bc"
      },
      "outputs": [
        {
          "output_type": "stream",
          "name": "stdout",
          "text": [
            "Number of cores available equals 2\n",
            "Saisir le nombre d'element de la liste : 5\n",
            "[7, 15, 8, 9, 19]\n",
            "Number of workers equals 2\n",
            "Worker 1956 calculating fibonacci of 15 \n",
            "\n",
            "Worker 1956 calculating fibonacci of 8 \n",
            "Worker 1955 calculating fibonacci of 7 \n",
            "\n",
            "\n",
            "Worker 1955 calculating fibonacci of 9 \n",
            "Worker 1956 calculating fibonacci of 19 \n",
            "\n",
            "\n",
            "[21, 987, 34, 55, 6765]\n",
            "Max = 6765\n",
            "Min = 21\n",
            "\n",
            "--- 3.959829807281494 seconds ---\n"
          ]
        }
      ],
      "source": [
        "from numpy.core.multiarray import result_type\n",
        "from functools import reduce\n",
        "from multiprocessing import Pool, current_process, cpu_count\n",
        "\n",
        "import numpy as np\n",
        "\n",
        "import time\n",
        "\n",
        "start_time = time.time()\n",
        "\n",
        "def create_list(x):\n",
        "    np.random.RandomState(100)\n",
        "    arr = np.random.randint(1, 20, size=[x])\n",
        "    data = arr.tolist()\n",
        "    return data\n",
        "\n",
        "def fibonacci(x):\n",
        "  \"\"\"Function to return the fibonacci value of the argument\"\"\"\n",
        "  if x:\n",
        "    print(\"Worker %s calculating fibonacci of %d \\n\" % (current_process().pid, x))\n",
        "  fib0, fib1 = 1, 1\n",
        "  fib = 0\n",
        "  if x > 1:\n",
        "    for i in range(2, x+1):\n",
        "      fib = fib1 + fib0\n",
        "      fib0 = fib1\n",
        "      fib1 = fib\n",
        "  else:\n",
        "    fib = 1\n",
        "    \n",
        "  return fib\n",
        "\n",
        "\n",
        "if __name__ == \"__main__\":\n",
        "    nprocs = 2\n",
        "    print(\"Number of cores available equals %s\" % cpu_count())\n",
        "\n",
        "    nbre_elm_liste = int(input(\"Saisir le nombre d'element de la liste : \"))\n",
        "    list_number = create_list(nbre_elm_liste)\n",
        "    print(list(list_number))\n",
        "\n",
        "    #print the number of cores\n",
        "    print(\"Number of workers equals %d\" % nprocs)\n",
        "   \n",
        "    # create a pool of workers != number of cores\n",
        "    with Pool(processes=nprocs) as pool:\n",
        "\n",
        "      resultat = pool.map(fibonacci, list(list_number))\n",
        "\n",
        "    print(list(resultat))\n",
        "    Maxi = reduce(max, resultat)\n",
        "    Mini = reduce(min, resultat)\n",
        "\n",
        "    print(\"Max = %d\\nMin = %d\" % (Maxi, Mini))\n",
        "\n",
        "    print(\"\\n--- %s seconds ---\" % (time.time() - start_time))\n"
      ]
    }
  ]
}
{
  "nbformat": 4,
  "nbformat_minor": 0,
  "metadata": {
    "colab": {
      "provenance": [],
      "authorship_tag": "ABX9TyNEH8IvzVAMV8cC4G9Ats0L",
      "include_colab_link": true
    },
    "kernelspec": {
      "name": "python3",
      "display_name": "Python 3"
    },
    "language_info": {
      "name": "python"
    },
    "accelerator": "TPU",
    "gpuClass": "standard"
  },
  "cells": [
    {
      "cell_type": "markdown",
      "metadata": {
        "id": "view-in-github",
        "colab_type": "text"
      },
      "source": [
        "<a href=\"https://colab.research.google.com/github/Yunpei24/ProgrammationParallele/blob/main/ExerciceBasePython.ipynb\" target=\"_parent\"><img src=\"https://colab.research.google.com/assets/colab-badge.svg\" alt=\"Open In Colab\"/></a>"
      ]
    },
    {
      "cell_type": "code",
      "execution_count": 2,
      "metadata": {
        "id": "JP_qeHliJOMU"
      },
      "outputs": [],
      "source": [
        "def du():\n",
        "    nombre = 0\n",
        "    while nombre < 10 or nombre >= 100:\n",
        "        nombre = int(input(\"Saisir un nombre compris entre 10 et 100 exclus: \"))\n",
        "        di = nombre//10\n",
        "        un = nombre%10\n",
        "    print(\"Unité = \", un)\n",
        "    print(\"Dizaine = \", di)\n",
        "    \n",
        "def cdu():\n",
        "    nombre = 0\n",
        "    while nombre < 100 or nombre >= 1000:\n",
        "        nombre = int(input(\"Saisir un nombre compris entre 100 et 1000 exclus: \"))\n",
        "        ce = nombre//100\n",
        "        di = (nombre%100)//10\n",
        "        un = nombre%10\n",
        "    print(\"Unité = \",un)\n",
        "    print(\"Dizaine = \",di)\n",
        "    print(\"Centaine = \",ce)"
      ]
    },
    {
      "cell_type": "code",
      "source": [
        "du()\n",
        "cdu()"
      ],
      "metadata": {
        "colab": {
          "base_uri": "https://localhost:8080/"
        },
        "id": "YNXzxLkuOhBh",
        "outputId": "482e3f43-65d7-4b5d-c08d-b054ab8b0144"
      },
      "execution_count": 3,
      "outputs": [
        {
          "output_type": "stream",
          "name": "stdout",
          "text": [
            "Saisir un nombre compris entre 10 et 100 exclus: 57\n",
            "Unité =  7\n",
            "Dizaine =  5\n",
            "Saisir un nombre compris entre 100 et 1000 exclus: 274\n",
            "Unité =  4\n",
            "Dizaine =  7\n",
            "Centaine =  2\n"
          ]
        }
      ]
    },
    {
      "cell_type": "code",
      "source": [
        "def decomposer():\n",
        "  nombre = int(input(\"Saisir un nombre: \"))\n",
        "  while nombre:\n",
        "    if((nombre // 10) != 0):\n",
        "      print(nombre%10, end=\",\")\n",
        "    else:\n",
        "      print(nombre%10)\n",
        "    nombre = nombre // 10\n",
        "decomposer()"
      ],
      "metadata": {
        "colab": {
          "base_uri": "https://localhost:8080/"
        },
        "id": "1SQSDnjmPc4c",
        "outputId": "0f1ff4c9-b1b5-43ee-e2ae-9c06907dbb8d"
      },
      "execution_count": 27,
      "outputs": [
        {
          "output_type": "stream",
          "name": "stdout",
          "text": [
            "Saisir un nombre: 7254\n",
            "4,5,2,7\n"
          ]
        }
      ]
    },
    {
      "cell_type": "code",
      "source": [
        "nbre = int(input(\"Saisir un nombre: \"))\n",
        "mil = nbre//1000\n",
        "ce = (nbre%1000)//100\n",
        "di = (nbre%100)//10\n",
        "un = nbre%10\n",
        "print(un, di, ce, mil, sep=\",\")"
      ],
      "metadata": {
        "colab": {
          "base_uri": "https://localhost:8080/"
        },
        "id": "Hl5ike_DLp5x",
        "outputId": "3b8dc602-cf51-4eed-a899-cef31adde2c7"
      },
      "execution_count": 4,
      "outputs": [
        {
          "output_type": "stream",
          "name": "stdout",
          "text": [
            "Saisir un nombre: 328\n",
            "8,2,3,0\n"
          ]
        }
      ]
    },
    {
      "cell_type": "code",
      "source": [
        "import random"
      ],
      "metadata": {
        "id": "b76aXnxcfkHj"
      },
      "execution_count": 1,
      "outputs": []
    },
    {
      "cell_type": "code",
      "source": [
        "max, max2 = 0, 1\n",
        "min, min2 = 22, 21\n",
        "for i in range(11):\n",
        "  a = random.randrange(1, 20)\n",
        "  if a > max:\n",
        "    max = a\n",
        "  if a > max2 and max2 < max and max != a:\n",
        "    max2 = a\n",
        "  if a < min:\n",
        "    min = a\n",
        "  if a < min2 and min2 > min and min != a:\n",
        "    min2 = a\n",
        "  print(a, end=\" \")\n",
        "\n",
        "print(\"\\nMax =\", max)\n",
        "print(\"Max2 =\", max2)\n",
        "print(\"Min =\", min)\n",
        "print(\"Min2 =\", min2)"
      ],
      "metadata": {
        "colab": {
          "base_uri": "https://localhost:8080/"
        },
        "id": "wyJKtlExfuo_",
        "outputId": "845c8752-84c9-41e5-ab24-33249ad4b1fc"
      },
      "execution_count": 17,
      "outputs": [
        {
          "output_type": "stream",
          "name": "stdout",
          "text": [
            "1 5 1 14 15 16 14 11 9 3 12 \n",
            "Max = 16\n",
            "Max2 = 14\n",
            "Min = 1\n",
            "Min2 = 3\n"
          ]
        }
      ]
    }
  ]
}
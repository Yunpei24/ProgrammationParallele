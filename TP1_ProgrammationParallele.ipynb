{
  "nbformat": 4,
  "nbformat_minor": 0,
  "metadata": {
    "colab": {
      "provenance": [],
      "authorship_tag": "ABX9TyOWljV1vvN992O5AVC2vRxH",
      "include_colab_link": true
    },
    "kernelspec": {
      "name": "python3",
      "display_name": "Python 3"
    },
    "language_info": {
      "name": "python"
    }
  },
  "cells": [
    {
      "cell_type": "markdown",
      "metadata": {
        "id": "view-in-github",
        "colab_type": "text"
      },
      "source": [
        "<a href=\"https://colab.research.google.com/github/Yunpei24/ProgrammationParallele/blob/main/TP1_ProgrammationParallele.ipynb\" target=\"_parent\"><img src=\"https://colab.research.google.com/assets/colab-badge.svg\" alt=\"Open In Colab\"/></a>"
      ]
    },
    {
      "cell_type": "code",
      "execution_count": 6,
      "metadata": {
        "id": "Jiwkl3qvQKxX"
      },
      "outputs": [],
      "source": [
        "def add(x, y):\n",
        "  \"\"\" Cette fonction fait la somme de 2 elements et retourne le resultat \"\"\"\n",
        "  som = x + y\n",
        "  return som"
      ]
    },
    {
      "cell_type": "code",
      "source": [
        "print(add(5, 7))"
      ],
      "metadata": {
        "colab": {
          "base_uri": "https://localhost:8080/"
        },
        "id": "3eaRKr6JRyIX",
        "outputId": "24576da5-9011-41dd-b413-754055ed2dcf"
      },
      "execution_count": 8,
      "outputs": [
        {
          "output_type": "stream",
          "name": "stdout",
          "text": [
            "12\n"
          ]
        }
      ]
    },
    {
      "cell_type": "markdown",
      "source": [
        "***Une fonction peut etre utilisée comme un object***\n",
        "a = add\n"
      ],
      "metadata": {
        "id": "KJHsyJZLSNsX"
      }
    },
    {
      "cell_type": "code",
      "source": [
        "def diff(x, y):\n",
        "  \"\"\" Renvoi la difference de 2 nombres \"\"\"\n",
        "  return x - y\n",
        "\n",
        "def call_function(x, y, f):\n",
        "  \"\"\" Function that calls another function \"\"\"\n",
        "  print(\"Calling function \", f.__name__ ,\"with arguments \", x, \" \", y)\n",
        "  print(\"The result is :\")\n",
        "  return f(x, y)\n"
      ],
      "metadata": {
        "id": "84jEHq6LTQ23"
      },
      "execution_count": 30,
      "outputs": []
    },
    {
      "cell_type": "code",
      "source": [
        "call_function(5, 7, diff)"
      ],
      "metadata": {
        "colab": {
          "base_uri": "https://localhost:8080/"
        },
        "id": "mWMnpyw_VKQK",
        "outputId": "9367b119-6905-4ad1-e867-b4e330ee3d80"
      },
      "execution_count": 31,
      "outputs": [
        {
          "output_type": "stream",
          "name": "stdout",
          "text": [
            "Calling function  diff with arguments  5   7\n",
            "The result is :\n"
          ]
        },
        {
          "output_type": "execute_result",
          "data": {
            "text/plain": [
              "-2"
            ]
          },
          "metadata": {},
          "execution_count": 31
        }
      ]
    },
    {
      "cell_type": "code",
      "source": [
        "call_function(2, 1, add)"
      ],
      "metadata": {
        "colab": {
          "base_uri": "https://localhost:8080/"
        },
        "id": "H7u864hSUJB6",
        "outputId": "ee6ef407-0ec2-4c7e-aeea-0d8637e094a6"
      },
      "execution_count": 32,
      "outputs": [
        {
          "output_type": "stream",
          "name": "stdout",
          "text": [
            "Calling function  add with arguments  2   1\n",
            "The result is :\n"
          ]
        },
        {
          "output_type": "execute_result",
          "data": {
            "text/plain": [
              "3"
            ]
          },
          "metadata": {},
          "execution_count": 32
        }
      ]
    },
    {
      "cell_type": "code",
      "source": [],
      "metadata": {
        "id": "_ZHW0Hn7VMJv"
      },
      "execution_count": null,
      "outputs": []
    }
  ]
}